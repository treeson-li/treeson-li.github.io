{
 "cells": [
  {
   "cell_type": "code",
   "execution_count": 4,
   "id": "0d9d4440",
   "metadata": {},
   "outputs": [],
   "source": [
    "import os\n",
    "from openai import OpenAI\n",
    "from dotenv import load_dotenv, find_dotenv\n",
    "\n",
    "\n",
    "load_dotenv()\n",
    "client = OpenAI()"
   ]
  },
  {
   "cell_type": "code",
   "execution_count": 5,
   "id": "c5e32bba",
   "metadata": {},
   "outputs": [
    {
     "name": "stdout",
     "output_type": "stream",
     "text": [
      "curie-search-query\n",
      "gpt-4\n",
      "babbage-search-query\n",
      "dall-e-3\n",
      "babbage-search-document\n",
      "dall-e-2\n",
      "gpt-3.5-turbo-0301\n",
      "text-embedding-ada-002\n",
      "gpt-4-0613\n",
      "davinci-search-query\n",
      "tts-1-hd-1106\n",
      "tts-1-hd\n",
      "ada-search-document\n",
      "ada-code-search-code\n",
      "davinci-002\n",
      "babbage-002\n",
      "gpt-4-vision-preview\n",
      "davinci-search-document\n",
      "curie-search-document\n",
      "gpt-4-1106-preview\n",
      "ada-search-query\n",
      "ada-code-search-text\n",
      "gpt-3.5-turbo-16k-0613\n",
      "whisper-1\n",
      "gpt-3.5-turbo-16k\n",
      "gpt-3.5-turbo\n",
      "gpt-3.5-turbo-0613\n",
      "gpt-3.5-turbo-1106\n",
      "gpt-3.5-turbo-instruct\n",
      "gpt-3.5-turbo-instruct-0914\n",
      "tts-1-1106\n",
      "tts-1\n",
      "ada:ft-personal:ada-edu-sales-test1-2023-05-18-04-10-48\n",
      "ada:ft-personal:ada-edu-sales-test1-2023-05-18-04-13-13\n"
     ]
    }
   ],
   "source": [
    "# 打印所支持的模型\n",
    "model_lst = client.models.list()\n",
    "\n",
    "for model in model_lst:\n",
    "    print (model.id)"
   ]
  },
  {
   "cell_type": "code",
   "execution_count": 6,
   "id": "7421ffe1",
   "metadata": {},
   "outputs": [
    {
     "name": "stdout",
     "output_type": "stream",
     "text": [
      "ChatCompletion(id='chatcmpl-8iMYlwGCSBpJGDxBPiAtfebHCntir', choices=[Choice(finish_reason='stop', index=0, logprobs=None, message=ChatCompletionMessage(content='学好英语需要系统的学习方法和持续的练习，以下是一些建议：\\n\\n1. 每日学习：每天设定一定的学习时间，保持学习的连续性。\\n\\n2. 单词记忆：记忆单词是学习英语的基础，可以通过词汇书或者单词卡片等方式记忆。\\n\\n3. 阅读：阅读有助于了解单词在实际语境中的用法，可以阅读英文书籍、文章或者新闻等。\\n\\n4. 听力练习：通过听英文歌曲、看英文电影或者听英文广播等方式，提升对英语语音和语调的理解。\\n\\n5. 口语练习：找到语言交换伙伴或者参加英语角等活动，提高口语能力。\\n\\n6. 写作练习：可以写英文日记或者文章，帮助理解如何正确使用语法和句式。\\n\\n7. 制定学习计划：制定合理的学习计划，包括学习目标和学习内容，帮助自己更好的管理学习时间。', role='assistant', function_call=None, tool_calls=None))], created=1705583843, model='gpt-4-0613', object='chat.completion', system_fingerprint=None, usage=CompletionUsage(completion_tokens=336, prompt_tokens=110, total_tokens=446))\n"
     ]
    }
   ],
   "source": [
    "# 调用API接口\n",
    "completion = client.chat.completions.create(\n",
    "    \n",
    "    model=\"gpt-4\",\n",
    "    messages=[\n",
    "        {\"role\": \"system\", \"content\": \"你是一名专业的英语助教，给学生提供必要的支持如提供提示、纠正错误等，但对于学生的请求不能直接给出答案，而是要一步步引导学生完成任务。 你仅需要回复跟英语有关的问题，如与英语无关，不要回复。\"},\n",
    "        {\"role\": \"user\", \"content\": \"如何学好英语？\"},\n",
    "        {\"role\": \"assistant\", \"content\": \"xxxx\"}，\n",
    "        {\"role\": \"user\", \"content\": \"xx\"}\n",
    "    ],\n",
    "    max_tokens = 500,\n",
    "    #n=5,\n",
    "    temperature=0.7,\n",
    ")\n",
    "\n",
    "print (completion)\n",
    "#print(completion.choices[0].message)"
   ]
  },
  {
   "cell_type": "code",
   "execution_count": null,
   "id": "bb7c7f07",
   "metadata": {},
   "outputs": [],
   "source": []
  },
  {
   "cell_type": "code",
   "execution_count": null,
   "id": "a3a28cdd",
   "metadata": {},
   "outputs": [],
   "source": []
  },
  {
   "cell_type": "code",
   "execution_count": null,
   "id": "799a33ec",
   "metadata": {},
   "outputs": [],
   "source": []
  },
  {
   "cell_type": "code",
   "execution_count": null,
   "id": "cb69584c",
   "metadata": {},
   "outputs": [],
   "source": []
  }
 ],
 "metadata": {
  "kernelspec": {
   "display_name": "LLMAppEnv",
   "language": "python",
   "name": "llmappenv"
  },
  "language_info": {
   "codemirror_mode": {
    "name": "ipython",
    "version": 3
   },
   "file_extension": ".py",
   "mimetype": "text/x-python",
   "name": "python",
   "nbconvert_exporter": "python",
   "pygments_lexer": "ipython3",
   "version": "3.9.13"
  }
 },
 "nbformat": 4,
 "nbformat_minor": 5
}
