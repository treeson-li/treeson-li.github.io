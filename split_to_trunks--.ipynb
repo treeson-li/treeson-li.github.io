{
 "cells": [
  {
   "cell_type": "code",
   "execution_count": 23,
   "id": "fa832f82",
   "metadata": {},
   "outputs": [
    {
     "name": "stdout",
     "output_type": "stream",
     "text": [
      "Requirement already satisfied: nltk in /Users/wenzheli/opt/anaconda3/lib/python3.9/site-packages (3.7)\n",
      "Requirement already satisfied: click in /Users/wenzheli/opt/anaconda3/lib/python3.9/site-packages (from nltk) (8.0.4)\n",
      "Requirement already satisfied: tqdm in /Users/wenzheli/opt/anaconda3/lib/python3.9/site-packages (from nltk) (4.64.1)\n",
      "Requirement already satisfied: regex>=2021.8.3 in /Users/wenzheli/opt/anaconda3/lib/python3.9/site-packages (from nltk) (2022.7.9)\n",
      "Requirement already satisfied: joblib in /Users/wenzheli/opt/anaconda3/lib/python3.9/site-packages (from nltk) (1.1.0)\n",
      "Note: you may need to restart the kernel to use updated packages.\n"
     ]
    },
    {
     "name": "stderr",
     "output_type": "stream",
     "text": [
      "[nltk_data] Downloading package punkt to /Users/wenzheli/nltk_data...\n",
      "[nltk_data]   Package punkt is already up-to-date!\n"
     ]
    },
    {
     "data": {
      "text/plain": [
       "True"
      ]
     },
     "execution_count": 23,
     "metadata": {},
     "output_type": "execute_result"
    }
   ],
   "source": [
    "%pip install nltk\n",
    "import nltk\n",
    "nltk.download('punkt')"
   ]
  },
  {
   "cell_type": "markdown",
   "id": "3eb3067a",
   "metadata": {},
   "source": [
    "### Split by Sentence"
   ]
  },
  {
   "cell_type": "code",
   "execution_count": 25,
   "id": "cb12dfa3",
   "metadata": {},
   "outputs": [
    {
     "name": "stdout",
     "output_type": "stream",
     "text": [
      "块 1: 127: The Earth's atmosphere is composed of layers, including the troposphere, stratosphere, mesosphere, thermosphere, and exosphere.\n",
      "块 2: 108: The troposphere is the lowest layer where all weather takes place and contains 75% of the atmosphere's mass.\n",
      "块 3: 115: Above this, the stratosphere contains the ozone layer, which protects the Earth from harmful ultraviolet radiation.\n"
     ]
    },
    {
     "name": "stderr",
     "output_type": "stream",
     "text": [
      "[nltk_data] Downloading package punkt to /Users/wenzheli/nltk_data...\n",
      "[nltk_data]   Package punkt is already up-to-date!\n"
     ]
    }
   ],
   "source": [
    "import nltk\n",
    "nltk.download('punkt')\n",
    "from nltk.tokenize import sent_tokenize\n",
    "\n",
    "text = (\"The Earth's atmosphere is composed of layers, including the troposphere, \"\n",
    "        \"stratosphere, mesosphere, thermosphere, and exosphere. The troposphere is \"\n",
    "        \"the lowest layer where all weather takes place and contains 75% of the atmosphere's mass. \"\n",
    "        \"Above this, the stratosphere contains the ozone layer, which protects the Earth \"\n",
    "        \"from harmful ultraviolet radiation.\")\n",
    "\n",
    "# Split the text into sentences\n",
    "chunks = sent_tokenize(text)\n",
    "\n",
    "for i, chunk in enumerate(chunks):\n",
    "    print(f\"块 {i+1}: {len(chunk)}: {chunk}\")\n"
   ]
  },
  {
   "cell_type": "markdown",
   "id": "bb8f3a82",
   "metadata": {},
   "source": [
    "### Fixed length chunks"
   ]
  },
  {
   "cell_type": "code",
   "execution_count": 26,
   "id": "ab609f1b",
   "metadata": {},
   "outputs": [
    {
     "name": "stdout",
     "output_type": "stream",
     "text": [
      "块 1: 100: The Earth's atmosphere is composed of layers, including the troposphere, stratosphere, mesosphere, t\n",
      "块 2: 100: hermosphere, and exosphere. The troposphere is the lowest layer where all weather takes place and co\n",
      "块 3: 100: ntains 75% of the atmosphere's mass. Above this, the stratosphere contains the ozone layer, which pr\n",
      "块 4: 52: otects the Earth from harmful ultraviolet radiation.\n"
     ]
    }
   ],
   "source": [
    "def fixed_length_chunks(text, chunk_size):\n",
    "    return [text[i:i+chunk_size] for i in range(0, len(text), chunk_size)]\n",
    "\n",
    "chunks = fixed_length_chunks(text, 100)  # 假设我们想要100个字符的块\n",
    "\n",
    "for i, chunk in enumerate(chunks):\n",
    "    print(f\"块 {i+1}: {len(chunk)}: {chunk}\")\n"
   ]
  },
  {
   "cell_type": "markdown",
   "id": "7722a2a8",
   "metadata": {},
   "source": [
    "### Chunks with overlapping window"
   ]
  },
  {
   "cell_type": "code",
   "execution_count": 27,
   "id": "beaa7464",
   "metadata": {},
   "outputs": [
    {
     "name": "stdout",
     "output_type": "stream",
     "text": [
      "块 1: 100: The Earth's atmosphere is composed of layers, including the troposphere, stratosphere, mesosphere, t\n",
      "块 2: 100: uding the troposphere, stratosphere, mesosphere, thermosphere, and exosphere. The troposphere is the\n",
      "块 3: 100: hermosphere, and exosphere. The troposphere is the lowest layer where all weather takes place and co\n",
      "块 4: 100:  lowest layer where all weather takes place and contains 75% of the atmosphere's mass. Above this, t\n",
      "块 5: 100: ntains 75% of the atmosphere's mass. Above this, the stratosphere contains the ozone layer, which pr\n",
      "块 6: 100: he stratosphere contains the ozone layer, which protects the Earth from harmful ultraviolet radiatio\n",
      "块 7: 52: otects the Earth from harmful ultraviolet radiation.\n",
      "块 8: 2: n.\n"
     ]
    }
   ],
   "source": [
    "def sliding_window_chunks(text, chunk_size, stride):\n",
    "    return [text[i:i+chunk_size] for i in range(0, len(text), stride)]\n",
    "\n",
    "chunks = sliding_window_chunks(text, 100, 50)  # 100个字符的块，步长为50\n",
    "\n",
    "for i, chunk in enumerate(chunks):\n",
    "    print(f\"块 {i+1}: {len(chunk)}: {chunk}\")\n"
   ]
  },
  {
   "attachments": {},
   "cell_type": "markdown",
   "id": "b3299ed9",
   "metadata": {},
   "source": []
  },
  {
   "cell_type": "markdown",
   "id": "baf508a5",
   "metadata": {},
   "source": [
    "### RecursiveCharacterTextSplitter from langchain"
   ]
  },
  {
   "cell_type": "code",
   "execution_count": 28,
   "id": "6ea3e4cc",
   "metadata": {},
   "outputs": [
    {
     "name": "stdout",
     "output_type": "stream",
     "text": [
      "块 1: 145: The Earth's atmosphere is a layer of gases surrounding the planet Earth and retained by Earth's gravity. It contains roughly 78% nitrogen and 21%\n",
      "块 2: 142: nitrogen and 21% oxygen, with trace amounts of other gases. The atmosphere protects life on Earth by absorbing ultraviolet solar radiation and\n",
      "块 3: 72: solar radiation and reducing temperature extremes between day and night.\n"
     ]
    }
   ],
   "source": [
    "# pip install langchain may be required\n",
    "from langchain.text_splitter import RecursiveCharacterTextSplitter\n",
    "\n",
    "text = \"The Earth's atmosphere is a layer of gases surrounding the planet Earth and retained by Earth's gravity. It contains roughly 78% nitrogen and 21% oxygen, with trace amounts of other gases. The atmosphere protects life on Earth by absorbing ultraviolet solar radiation and reducing temperature extremes between day and night.\"\n",
    "\n",
    "splitter = RecursiveCharacterTextSplitter(\n",
    "    chunk_size = 150,\n",
    "    chunk_overlap = 20,\n",
    "    length_function = len,\n",
    ")\n",
    "trunks = splitter.split_text(text)\n",
    "for i, chunk in enumerate(trunks):\n",
    "    print(f\"块 {i+1}: {len(chunk)}: {chunk}\")\n"
   ]
  },
  {
   "cell_type": "code",
   "execution_count": 18,
   "id": "b285cf6d",
   "metadata": {},
   "outputs": [
    {
     "data": {
      "text/plain": [
       "145"
      ]
     },
     "execution_count": 18,
     "metadata": {},
     "output_type": "execute_result"
    }
   ],
   "source": [
    "len(trunks[0])"
   ]
  },
  {
   "cell_type": "code",
   "execution_count": null,
   "id": "16e22776",
   "metadata": {},
   "outputs": [],
   "source": []
  },
  {
   "cell_type": "code",
   "execution_count": null,
   "id": "9e0f36cf",
   "metadata": {},
   "outputs": [],
   "source": []
  }
 ],
 "metadata": {
  "kernelspec": {
   "display_name": "LLMAppEnv",
   "language": "python",
   "name": "llmappenv"
  },
  "language_info": {
   "codemirror_mode": {
    "name": "ipython",
    "version": 3
   },
   "file_extension": ".py",
   "mimetype": "text/x-python",
   "name": "python",
   "nbconvert_exporter": "python",
   "pygments_lexer": "ipython3",
   "version": "3.9.13"
  }
 },
 "nbformat": 4,
 "nbformat_minor": 5
}
