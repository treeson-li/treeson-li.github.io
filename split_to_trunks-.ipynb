{
 "cells": [
  {
   "cell_type": "code",
   "execution_count": 13,
   "id": "0d431412",
   "metadata": {},
   "outputs": [
    {
     "name": "stdout",
     "output_type": "stream",
     "text": [
      "Requirement already satisfied: jieba in /Users/wenzheli/opt/anaconda3/lib/python3.9/site-packages (0.42.1)\n",
      "Note: you may need to restart the kernel to use updated packages.\n"
     ]
    }
   ],
   "source": [
    " %pip install jieba"
   ]
  },
  {
   "cell_type": "code",
   "execution_count": 15,
   "id": "f1669a35",
   "metadata": {},
   "outputs": [
    {
     "name": "stdout",
     "output_type": "stream",
     "text": [
      "块 1: 27: 在这里，我们有一段超过200字的中文文本作为输入例子。\n",
      "块 2: 17: 这段文本是关于自然语言处理的简介。\n",
      "块 3: 51: 自然语言处理（NLP）是计算机科学、人工智能和语言学的交叉领域，它旨在让计算机能够理解和处理人类语言。\n",
      "块 4: 21: 在这一领域中，机器学习技术扮演着核心角色。\n",
      "块 5: 34: 通过使用各种算法，计算机可以解析、理解、甚至生成人类可以理解的语言。\n",
      "块 6: 35: 这一技术已广泛应用于机器翻译、情感分析、自动摘要、实体识别等多个方面。\n",
      "块 7: 34: 随着深度学习技术的发展，自然语言处理的准确性和效率都得到了显著提升。\n",
      "块 8: 47: 当前，一些高级的NLP系统已经能够完成复杂的语言理解任务，例如问答系统、语音识别和对话系统等。\n",
      "块 9: 47: 自然语言处理的研究不仅有助于改善人机交互，而且对于提高机器的自主性和智能化水平也具有重要意义。\n"
     ]
    }
   ],
   "source": [
    "# 按照sentence来切分\n",
    "import re\n",
    "\n",
    "text = \"在这里，我们有一段超过200字的中文文本作为输入例子。这段文本是关于自然语言处理的简介。自然语言处理（NLP）是计算机科学、人工智能和语言学的交叉领域，它旨在让计算机能够理解和处理人类语言。在这一领域中，机器学习技术扮演着核心角色。通过使用各种算法，计算机可以解析、理解、甚至生成人类可以理解的语言。这一技术已广泛应用于机器翻译、情感分析、自动摘要、实体识别等多个方面。随着深度学习技术的发展，自然语言处理的准确性和效率都得到了显著提升。当前，一些高级的NLP系统已经能够完成复杂的语言理解任务，例如问答系统、语音识别和对话系统等。自然语言处理的研究不仅有助于改善人机交互，而且对于提高机器的自主性和智能化水平也具有重要意义。\"\n",
    "# 正则表达式匹配中文句子结束的标点符号\n",
    "sentences = re.split(r'(。|？|！|\\…\\…)', text)\n",
    "# 重新组合句子和结尾的标点符号\n",
    "chunks = [sentence + (punctuation if punctuation else '') for sentence, punctuation in zip(sentences[::2], sentences[1::2])]\n",
    "for i, chunk in enumerate(chunks):\n",
    "    print(f\"块 {i+1}: {len(chunk)}: {chunk}\")"
   ]
  },
  {
   "cell_type": "code",
   "execution_count": 4,
   "id": "a61f52aa",
   "metadata": {},
   "outputs": [
    {
     "name": "stdout",
     "output_type": "stream",
     "text": [
      "块 1: 100: 在这里，我们有一段超过200字的中文文本作为输入例子。这段文本是关于自然语言处理的简介。自然语言处理（NLP）是计算机科学、人工智能和语言学的交叉领域，它旨在让计算机能够理解和处理人类语言。在这一领域\n",
      "块 2: 100: 中，机器学习技术扮演着核心角色。通过使用各种算法，计算机可以解析、理解、甚至生成人类可以理解的语言。这一技术已广泛应用于机器翻译、情感分析、自动摘要、实体识别等多个方面。随着深度学习技术的发展，自然语\n",
      "块 3: 100: 言处理的准确性和效率都得到了显著提升。当前，一些高级的NLP系统已经能够完成复杂的语言理解任务，例如问答系统、语音识别和对话系统等。自然语言处理的研究不仅有助于改善人机交互，而且对于提高机器的自主性和\n",
      "块 4: 13: 智能化水平也具有重要意义。\n"
     ]
    }
   ],
   "source": [
    "# 按照固定字符数切分\n",
    "def split_by_fixed_char_count(text, count):\n",
    "    return [text[i:i+count] for i in range(0, len(text), count)]\n",
    "\n",
    "# 假设我们按照每100个字符来切分文本\n",
    "chunks = split_by_fixed_char_count(text, 100)\n",
    "for i, chunk in enumerate(chunks):\n",
    "    print(f\"块 {i+1}: {len(chunk)}: {chunk}\")"
   ]
  },
  {
   "cell_type": "code",
   "execution_count": 16,
   "id": "46569529",
   "metadata": {},
   "outputs": [
    {
     "name": "stdout",
     "output_type": "stream",
     "text": [
      "块 1: 5: ['在这里，我们有一段超过200字的中文文本作为输入例子', '。', '这段文本是关于自然语言处理的简介', '。', '自然语言处理（NLP）是计算机科学、人工智能和语言学的交叉领域，它旨在让计算机能够理解和处理人类语言']\n",
      "块 2: 5: ['。', '在这一领域中，机器学习技术扮演着核心角色', '。', '通过使用各种算法，计算机可以解析、理解、甚至生成人类可以理解的语言', '。']\n",
      "块 3: 5: ['这一技术已广泛应用于机器翻译、情感分析、自动摘要、实体识别等多个方面', '。', '随着深度学习技术的发展，自然语言处理的准确性和效率都得到了显著提升', '。', '当前，一些高级的NLP系统已经能够完成复杂的语言理解任务，例如问答系统、语音识别和对话系统等']\n",
      "块 4: 4: ['。', '自然语言处理的研究不仅有助于改善人机交互，而且对于提高机器的自主性和智能化水平也具有重要意义', '。', '']\n"
     ]
    }
   ],
   "source": [
    "# 按照固定sentence数切分\n",
    "\n",
    "def split_by_fixed_sentence_count(sentences, count):\n",
    "    return [sentences[i:i+count] for i in range(0, len(sentences), count)]\n",
    "\n",
    "# 假设我们按照每5个句子来切分文本\n",
    "chunks = split_by_fixed_sentence_count(sentences, 5)\n",
    "\n",
    "for i, chunk in enumerate(chunks):\n",
    "    print(f\"块 {i+1}: {len(chunk)}: {chunk}\")"
   ]
  },
  {
   "cell_type": "code",
   "execution_count": 17,
   "id": "2682b310",
   "metadata": {},
   "outputs": [
    {
     "name": "stdout",
     "output_type": "stream",
     "text": [
      "块 1: 149: 在这里，我们有一段超过200字的中文文本作为输入例子。这段文本是关于自然语言处理的简介。自然语言处理（NLP）是计算机科学、人工智能和语言学的交叉领域，它旨在让计算机能够理解和处理人类语言。在这一领域中，机器学习技术扮演着核心角色。通过使用各种算法，计算机可以解析、理解、甚至生成人类可以理解的语言\n",
      "块 2: 150: 。这一技术已广泛应用于机器翻译、情感分析、自动摘要、实体识别等多个方面。随着深度学习技术的发展，自然语言处理的准确性和效率都得到了显著提升。当前，一些高级的NLP系统已经能够完成复杂的语言理解任务，例如问答系统、语音识别和对话系统等。自然语言处理的研究不仅有助于改善人机交互，而且对于提高机器的自主性\n",
      "块 3: 14: 和智能化水平也具有重要意义。\n"
     ]
    }
   ],
   "source": [
    "from langchain.text_splitter import RecursiveCharacterTextSplitter\n",
    "\n",
    "text = \"\"\"\n",
    "在这里，我们有一段超过200字的中文文本作为输入例子。这段文本是关于自然语言处理的简介。自然语言处理（NLP）是计算机科学、人工智能和语言学的交叉领域，它旨在让计算机能够理解和处理人类语言。在这一领域中，机器学习技术扮演着核心角色。通过使用各种算法，计算机可以解析、理解、甚至生成人类可以理解的语言。这一技术已广泛应用于机器翻译、情感分析、自动摘要、实体识别等多个方面。随着深度学习技术的发展，自然语言处理的准确性和效率都得到了显著提升。当前，一些高级的NLP系统已经能够完成复杂的语言理解任务，例如问答系统、语音识别和对话系统等。自然语言处理的研究不仅有助于改善人机交互，而且对于提高机器的自主性和智能化水平也具有重要意义。\n",
    "\"\"\"\n",
    "\n",
    "splitter = RecursiveCharacterTextSplitter(\n",
    "    chunk_size = 150,\n",
    "    chunk_overlap = 0,\n",
    "    length_function = len,\n",
    ")\n",
    "\n",
    "trunks = splitter.split_text(text)\n",
    "for i, chunk in enumerate(trunks):\n",
    "    print(f\"块 {i+1}: {len(chunk)}: {chunk}\")"
   ]
  },
  {
   "cell_type": "code",
   "execution_count": null,
   "id": "539f030e",
   "metadata": {},
   "outputs": [],
   "source": []
  }
 ],
 "metadata": {
  "kernelspec": {
   "display_name": "LLMAppEnv",
   "language": "python",
   "name": "llmappenv"
  },
  "language_info": {
   "codemirror_mode": {
    "name": "ipython",
    "version": 3
   },
   "file_extension": ".py",
   "mimetype": "text/x-python",
   "name": "python",
   "nbconvert_exporter": "python",
   "pygments_lexer": "ipython3",
   "version": "3.9.13"
  }
 },
 "nbformat": 4,
 "nbformat_minor": 5
}
